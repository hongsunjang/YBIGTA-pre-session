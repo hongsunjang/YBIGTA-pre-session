{
  "nbformat": 4,
  "nbformat_minor": 0,
  "metadata": {
    "kernelspec": {
      "display_name": "Python 3",
      "language": "python",
      "name": "python3"
    },
    "language_info": {
      "codemirror_mode": {
        "name": "ipython",
        "version": 3
      },
      "file_extension": ".py",
      "mimetype": "text/x-python",
      "name": "python",
      "nbconvert_exporter": "python",
      "pygments_lexer": "ipython3",
      "version": "3.7.1"
    },
    "colab": {
      "name": "DL(MLP)_과제의 사본",
      "provenance": [],
      "collapsed_sections": [],
      "include_colab_link": true
    },
    "accelerator": "GPU"
  },
  "cells": [
    {
      "cell_type": "markdown",
      "metadata": {
        "id": "view-in-github",
        "colab_type": "text"
      },
      "source": [
        "<a href=\"https://colab.research.google.com/github/hongsunjang/YBIGTA-pre-session/blob/main/DL(MLP)_%EA%B3%BC%EC%A0%9C.ipynb\" target=\"_parent\"><img src=\"https://colab.research.google.com/assets/colab-badge.svg\" alt=\"Open In Colab\"/></a>"
      ]
    },
    {
      "cell_type": "markdown",
      "metadata": {
        "id": "MN_pVd5cU2QQ"
      },
      "source": [
        "# 과제: MNIST 데이터를 나만의 NN model로 95 % 이상의 성능으로 training 시켜보자!\n",
        "\n",
        "\n",
        "## Loading MNIST training data\n",
        "\n",
        "출처: 18기 DS 김승하님"
      ]
    },
    {
      "cell_type": "code",
      "metadata": {
        "id": "hwZNV5MFU2QQ",
        "colab": {
          "base_uri": "https://localhost:8080/"
        },
        "outputId": "e118ef43-21bd-4895-d40e-78d5f5ac224b"
      },
      "source": [
        "import tensorflow as tf\n",
        "from tensorflow import keras\n",
        "\n",
        "# import matplotlib\n",
        "import matplotlib.pyplot as plt\n",
        "%matplotlib inline\n",
        "\n",
        "# Loading the data\n",
        "(x_train, y_train), (x_test, y_test) = tf.keras.datasets.mnist.load_data()\n",
        "\n",
        "# Scaling(image data는 min-max scaling 주로 사용)\n",
        "x_train = x_train/255.0\n",
        "x_test = x_test/255.0"
      ],
      "execution_count": 1,
      "outputs": [
        {
          "output_type": "stream",
          "name": "stdout",
          "text": [
            "Downloading data from https://storage.googleapis.com/tensorflow/tf-keras-datasets/mnist.npz\n",
            "11493376/11490434 [==============================] - 0s 0us/step\n",
            "11501568/11490434 [==============================] - 0s 0us/step\n"
          ]
        }
      ]
    },
    {
      "cell_type": "markdown",
      "metadata": {
        "id": "RDU8J2xRU2QQ"
      },
      "source": [
        "## Training Data\n",
        "28 * 28 pixel 값을 가진 총 60000개의 이미지 데이터"
      ]
    },
    {
      "cell_type": "code",
      "metadata": {
        "id": "jVvXmjQSU2QQ",
        "colab": {
          "base_uri": "https://localhost:8080/"
        },
        "outputId": "fe765721-2749-470f-e329-c8d8d60f6cba"
      },
      "source": [
        "x_train.shape "
      ],
      "execution_count": 2,
      "outputs": [
        {
          "output_type": "execute_result",
          "data": {
            "text/plain": [
              "(60000, 28, 28)"
            ]
          },
          "metadata": {},
          "execution_count": 2
        }
      ]
    },
    {
      "cell_type": "markdown",
      "metadata": {
        "id": "272a9wmbuL3L"
      },
      "source": [
        ""
      ]
    },
    {
      "cell_type": "markdown",
      "metadata": {
        "id": "-VTAAYKSU2QQ"
      },
      "source": [
        "Neural network 모델에 맞게 이미지 데이터를 벡터 형태로 데이터를 reshape 합니다.  \n",
        "(Model을 만들 때 *keras.layers.Flatten(input_shape=(28, 28)) 이용해도 됨)"
      ]
    },
    {
      "cell_type": "code",
      "metadata": {
        "id": "dq36yUX8U2QR",
        "colab": {
          "base_uri": "https://localhost:8080/"
        },
        "outputId": "f70de184-2554-449e-c1bc-ea6233c6d781"
      },
      "source": [
        "x_train, x_test = x_train.reshape((-1, 28*28)), x_test.reshape((-1, 28*28))\n",
        "x_train.shape, x_test.shape"
      ],
      "execution_count": 19,
      "outputs": [
        {
          "output_type": "execute_result",
          "data": {
            "text/plain": [
              "((60000, 784), (10000, 784))"
            ]
          },
          "metadata": {},
          "execution_count": 19
        }
      ]
    },
    {
      "cell_type": "code",
      "metadata": {
        "id": "zrQLH9iXU2QR"
      },
      "source": [
        "# Hint: x_train[0].reshape()\n",
        "#plt.imshow(x_train[0]).set_cmap('Greys')"
      ],
      "execution_count": 5,
      "outputs": []
    },
    {
      "cell_type": "markdown",
      "metadata": {
        "id": "0YZXzr-AU2QR"
      },
      "source": [
        "## Training Labels\n",
        "이미지 데이터가 나타내는 숫자값을 label로 가지고 있고, 0부터 9까지의 값을 나타냄  \n",
        "마찬가지로, 60000개의 label이 존재"
      ]
    },
    {
      "cell_type": "code",
      "metadata": {
        "id": "V-JVvQcJU2QR",
        "colab": {
          "base_uri": "https://localhost:8080/"
        },
        "outputId": "c7cd3dc4-b3ca-45d1-9890-471811848fad"
      },
      "source": [
        "y_train.shape"
      ],
      "execution_count": 6,
      "outputs": [
        {
          "output_type": "execute_result",
          "data": {
            "text/plain": [
              "(60000,)"
            ]
          },
          "metadata": {},
          "execution_count": 6
        }
      ]
    },
    {
      "cell_type": "code",
      "metadata": {
        "id": "PgAkJK6yU2QR",
        "colab": {
          "base_uri": "https://localhost:8080/"
        },
        "outputId": "df988a98-b6ab-4124-a739-4963fa46c1a4"
      },
      "source": [
        "# show MNIST label for above data\n",
        "y_train[0]"
      ],
      "execution_count": 7,
      "outputs": [
        {
          "output_type": "execute_result",
          "data": {
            "text/plain": [
              "5"
            ]
          },
          "metadata": {},
          "execution_count": 7
        }
      ]
    },
    {
      "cell_type": "markdown",
      "metadata": {
        "id": "qaI3Kv_GU2QR"
      },
      "source": [
        "## 나만의 모델을 tensorflow keras API 를 이용해 만들어 봅시다~"
      ]
    },
    {
      "cell_type": "markdown",
      "metadata": {
        "id": "gSshVnt2U2QS"
      },
      "source": [
        "* parameters for model"
      ]
    },
    {
      "cell_type": "code",
      "source": [
        "x_val = x_train[-10000:]\n",
        "y_val = y_train[-10000:]\n",
        "x_train = x_train[:-10000]\n",
        "y_train = y_train[:-10000]"
      ],
      "metadata": {
        "id": "9U1dqJ_nj3_n"
      },
      "execution_count": 43,
      "outputs": []
    },
    {
      "cell_type": "code",
      "metadata": {
        "id": "coUZ53nKU2QS"
      },
      "source": [
        "activation_list = [\"sigmoid\", \"relu\", \"softmax\", \"tanh\"]\n",
        "\n",
        "loss_list = [\"sparse_categorical_crossentropy\",\n",
        "             \"categorical_crossentropy\", \n",
        "             \"binary_crossentropy\"]\n",
        "\n",
        "optimizer_list = [\"sgd\", \"adam\", \"rmsprop\", \"adagrad\"]\n",
        "\n",
        "initializer_list = [tf.keras.initializers.RandomNormal(), \n",
        "                    tf.keras.initializers.RandomUniform(), \n",
        "                    tf.keras.initializers.he_normal(), \n",
        "                    tf.keras.initializers.he_uniform(), \n",
        "                    tf.keras.initializers.GlorotUniform(),\n",
        "                    tf.keras.initializers.GlorotNormal()]\n",
        "\n",
        "# dropout\n",
        "dropout_rate = 0.3\n",
        "#model = tf.keras.Sequential([\n",
        "#    tf.keras.layers.Dense(256, input_dim=784, activation = \"sigmoid\"),\n",
        "#    tf.keras.layers.Dense(2, activation = \"sigmoid\"),\n",
        "#    tf.keras.layers.Dropout(dropout_rate)\n",
        "#])\n",
        "\n",
        "\n",
        "# regularizer\n",
        "#regularizer = tf.keras.regularizers.l1(1e-3)\n",
        "regularizer = tf.keras.regularizers.l2(1e-3)\n",
        "#model = tf.keras.Sequential([\n",
        "#    tf.keras.layers.Dense(256, input_dim=784, activation=\"sigmoid\",\n",
        "#                          activity_regularizer=regularizer)\n",
        "#])\n",
        "\n",
        "# weight initialization\n",
        "#model = tf.keras.Sequential([\n",
        "#    tf.keras.layers.Dense(256, input_dim=784, activation=\"sigmoid\",\n",
        "#                          kernel_initializer=initializer_list[0])\n",
        "#])\n",
        "from tensorflow import keras\n",
        "from tensorflow.keras import layers\n",
        "\n",
        "model = tf.keras.Sequential([\n",
        "  tf.keras.layers.Dense(256, input_dim=784, activation=\"relu\",\n",
        "                          kernel_initializer=initializer_list[2],\n",
        "                          ),\n",
        "  tf.keras.layers.Dense(256, activation=\"relu\",\n",
        "                          kernel_initializer=initializer_list[2],\n",
        "                          ),\n",
        "  layers.Dense(10, activation = \"softmax\", name = \"predictions\")]\n",
        ")\n"
      ],
      "execution_count": 52,
      "outputs": []
    },
    {
      "cell_type": "markdown",
      "metadata": {
        "id": "d-6ZTz4AU2QS"
      },
      "source": [
        "#### My Own Model "
      ]
    },
    {
      "cell_type": "code",
      "metadata": {
        "id": "ziVbGe6sU2QS"
      },
      "source": [
        "#### 자유롭게 Model을 만들고 compile 해봅시다 ####\n",
        "#optimizer=\"Adam\", loss=\"mse\", metrics=[\"mae\"]\n",
        "model.compile(optimizer=\"Adam\", loss=keras.losses.SparseCategoricalCrossentropy(), metrics = [keras.metrics.SparseCategoricalAccuracy()]) "
      ],
      "execution_count": 53,
      "outputs": []
    },
    {
      "cell_type": "markdown",
      "metadata": {
        "id": "PVhLJHJ9U2QT"
      },
      "source": [
        "내가 만든 모델을 확인해 봅시다."
      ]
    },
    {
      "cell_type": "code",
      "metadata": {
        "id": "GChgw-8sU2QT",
        "colab": {
          "base_uri": "https://localhost:8080/"
        },
        "outputId": "ca5945b3-d75a-4834-ba6d-2eb2ed9a7a40"
      },
      "source": [
        "model.summary()"
      ],
      "execution_count": 54,
      "outputs": [
        {
          "output_type": "stream",
          "name": "stdout",
          "text": [
            "Model: \"sequential_15\"\n",
            "_________________________________________________________________\n",
            " Layer (type)                Output Shape              Param #   \n",
            "=================================================================\n",
            " dense_24 (Dense)            (None, 256)               200960    \n",
            "                                                                 \n",
            " dense_25 (Dense)            (None, 256)               65792     \n",
            "                                                                 \n",
            " predictions (Dense)         (None, 10)                2570      \n",
            "                                                                 \n",
            "=================================================================\n",
            "Total params: 269,322\n",
            "Trainable params: 269,322\n",
            "Non-trainable params: 0\n",
            "_________________________________________________________________\n"
          ]
        }
      ]
    },
    {
      "cell_type": "markdown",
      "metadata": {
        "id": "f9zWRRHIU2QT"
      },
      "source": [
        "model을 자유롭게 train 해봅시다.  "
      ]
    },
    {
      "cell_type": "code",
      "metadata": {
        "id": "6uygJ19gU2QT",
        "colab": {
          "base_uri": "https://localhost:8080/"
        },
        "outputId": "2a3feaa8-efd0-465c-f201-dbc355f40e17"
      },
      "source": [
        "model.fit(x_train, y_train,epochs=30, batch_size=64, validation_data = [x_val, y_val])"
      ],
      "execution_count": 56,
      "outputs": [
        {
          "output_type": "stream",
          "name": "stdout",
          "text": [
            "Epoch 1/30\n",
            "782/782 [==============================] - 2s 3ms/step - loss: 0.0259 - sparse_categorical_accuracy: 0.9917 - val_loss: 0.0926 - val_sparse_categorical_accuracy: 0.9759\n",
            "Epoch 2/30\n",
            "782/782 [==============================] - 2s 3ms/step - loss: 0.0227 - sparse_categorical_accuracy: 0.9923 - val_loss: 0.0911 - val_sparse_categorical_accuracy: 0.9772\n",
            "Epoch 3/30\n",
            "782/782 [==============================] - 2s 3ms/step - loss: 0.0190 - sparse_categorical_accuracy: 0.9939 - val_loss: 0.0972 - val_sparse_categorical_accuracy: 0.9778\n",
            "Epoch 4/30\n",
            "782/782 [==============================] - 2s 3ms/step - loss: 0.0170 - sparse_categorical_accuracy: 0.9941 - val_loss: 0.1030 - val_sparse_categorical_accuracy: 0.9778\n",
            "Epoch 5/30\n",
            "782/782 [==============================] - 2s 3ms/step - loss: 0.0155 - sparse_categorical_accuracy: 0.9950 - val_loss: 0.0986 - val_sparse_categorical_accuracy: 0.9760\n",
            "Epoch 6/30\n",
            "782/782 [==============================] - 2s 3ms/step - loss: 0.0160 - sparse_categorical_accuracy: 0.9945 - val_loss: 0.1011 - val_sparse_categorical_accuracy: 0.9796\n",
            "Epoch 7/30\n",
            "782/782 [==============================] - 2s 3ms/step - loss: 0.0107 - sparse_categorical_accuracy: 0.9962 - val_loss: 0.1101 - val_sparse_categorical_accuracy: 0.9790\n",
            "Epoch 8/30\n",
            "782/782 [==============================] - 2s 3ms/step - loss: 0.0135 - sparse_categorical_accuracy: 0.9957 - val_loss: 0.0940 - val_sparse_categorical_accuracy: 0.9806\n",
            "Epoch 9/30\n",
            "782/782 [==============================] - 2s 3ms/step - loss: 0.0132 - sparse_categorical_accuracy: 0.9955 - val_loss: 0.1153 - val_sparse_categorical_accuracy: 0.9782\n",
            "Epoch 10/30\n",
            "782/782 [==============================] - 2s 3ms/step - loss: 0.0084 - sparse_categorical_accuracy: 0.9973 - val_loss: 0.1363 - val_sparse_categorical_accuracy: 0.9746\n",
            "Epoch 11/30\n",
            "782/782 [==============================] - 2s 3ms/step - loss: 0.0073 - sparse_categorical_accuracy: 0.9975 - val_loss: 0.1156 - val_sparse_categorical_accuracy: 0.9788\n",
            "Epoch 12/30\n",
            "782/782 [==============================] - 2s 3ms/step - loss: 0.0118 - sparse_categorical_accuracy: 0.9960 - val_loss: 0.1198 - val_sparse_categorical_accuracy: 0.9780\n",
            "Epoch 13/30\n",
            "782/782 [==============================] - 2s 3ms/step - loss: 0.0080 - sparse_categorical_accuracy: 0.9976 - val_loss: 0.1286 - val_sparse_categorical_accuracy: 0.9760\n",
            "Epoch 14/30\n",
            "782/782 [==============================] - 2s 3ms/step - loss: 0.0123 - sparse_categorical_accuracy: 0.9966 - val_loss: 0.1035 - val_sparse_categorical_accuracy: 0.9799\n",
            "Epoch 15/30\n",
            "782/782 [==============================] - 2s 3ms/step - loss: 0.0062 - sparse_categorical_accuracy: 0.9981 - val_loss: 0.1280 - val_sparse_categorical_accuracy: 0.9788\n",
            "Epoch 16/30\n",
            "782/782 [==============================] - 2s 3ms/step - loss: 0.0054 - sparse_categorical_accuracy: 0.9984 - val_loss: 0.1515 - val_sparse_categorical_accuracy: 0.9752\n",
            "Epoch 17/30\n",
            "782/782 [==============================] - 2s 3ms/step - loss: 0.0124 - sparse_categorical_accuracy: 0.9965 - val_loss: 0.1314 - val_sparse_categorical_accuracy: 0.9766\n",
            "Epoch 18/30\n",
            "782/782 [==============================] - 2s 3ms/step - loss: 0.0056 - sparse_categorical_accuracy: 0.9982 - val_loss: 0.1531 - val_sparse_categorical_accuracy: 0.9755\n",
            "Epoch 19/30\n",
            "782/782 [==============================] - 3s 4ms/step - loss: 0.0055 - sparse_categorical_accuracy: 0.9983 - val_loss: 0.1312 - val_sparse_categorical_accuracy: 0.9782\n",
            "Epoch 20/30\n",
            "782/782 [==============================] - 2s 3ms/step - loss: 0.0065 - sparse_categorical_accuracy: 0.9979 - val_loss: 0.1276 - val_sparse_categorical_accuracy: 0.9801\n",
            "Epoch 21/30\n",
            "782/782 [==============================] - 2s 3ms/step - loss: 0.0119 - sparse_categorical_accuracy: 0.9964 - val_loss: 0.1466 - val_sparse_categorical_accuracy: 0.9779\n",
            "Epoch 22/30\n",
            "782/782 [==============================] - 2s 3ms/step - loss: 0.0073 - sparse_categorical_accuracy: 0.9975 - val_loss: 0.1642 - val_sparse_categorical_accuracy: 0.9758\n",
            "Epoch 23/30\n",
            "782/782 [==============================] - 2s 3ms/step - loss: 0.0065 - sparse_categorical_accuracy: 0.9981 - val_loss: 0.1279 - val_sparse_categorical_accuracy: 0.9806\n",
            "Epoch 24/30\n",
            "782/782 [==============================] - 2s 3ms/step - loss: 0.0041 - sparse_categorical_accuracy: 0.9988 - val_loss: 0.1428 - val_sparse_categorical_accuracy: 0.9801\n",
            "Epoch 25/30\n",
            "782/782 [==============================] - 2s 3ms/step - loss: 0.0060 - sparse_categorical_accuracy: 0.9983 - val_loss: 0.1500 - val_sparse_categorical_accuracy: 0.9771\n",
            "Epoch 26/30\n",
            "782/782 [==============================] - 2s 3ms/step - loss: 0.0116 - sparse_categorical_accuracy: 0.9968 - val_loss: 0.1714 - val_sparse_categorical_accuracy: 0.9746\n",
            "Epoch 27/30\n",
            "782/782 [==============================] - 2s 3ms/step - loss: 0.0073 - sparse_categorical_accuracy: 0.9980 - val_loss: 0.1386 - val_sparse_categorical_accuracy: 0.9812\n",
            "Epoch 28/30\n",
            "782/782 [==============================] - 2s 3ms/step - loss: 0.0052 - sparse_categorical_accuracy: 0.9985 - val_loss: 0.1536 - val_sparse_categorical_accuracy: 0.9795\n",
            "Epoch 29/30\n",
            "782/782 [==============================] - 2s 3ms/step - loss: 0.0037 - sparse_categorical_accuracy: 0.9988 - val_loss: 0.1564 - val_sparse_categorical_accuracy: 0.9795\n",
            "Epoch 30/30\n",
            "782/782 [==============================] - 2s 3ms/step - loss: 0.0083 - sparse_categorical_accuracy: 0.9975 - val_loss: 0.1451 - val_sparse_categorical_accuracy: 0.9816\n"
          ]
        },
        {
          "output_type": "execute_result",
          "data": {
            "text/plain": [
              "<keras.callbacks.History at 0x7f00e61612d0>"
            ]
          },
          "metadata": {},
          "execution_count": 56
        }
      ]
    },
    {
      "cell_type": "markdown",
      "metadata": {
        "id": "U8A4zKnEU2QT"
      },
      "source": [
        "95%이상의 성능을 가진 모델을 만들면 완성!"
      ]
    },
    {
      "cell_type": "code",
      "metadata": {
        "id": "9Xz0qGifU2QU",
        "colab": {
          "base_uri": "https://localhost:8080/"
        },
        "outputId": "ecd5d48f-04cd-494c-a0e2-914dd7e3e24d"
      },
      "source": [
        "test_loss, test_acc = model.evaluate(x_test,y_test, verbose=2)\n",
        "\n",
        "print('\\nAccuracy:', test_acc)"
      ],
      "execution_count": 57,
      "outputs": [
        {
          "output_type": "stream",
          "name": "stdout",
          "text": [
            "313/313 - 1s - loss: 0.1288 - sparse_categorical_accuracy: 0.9816 - 570ms/epoch - 2ms/step\n",
            "\n",
            "Accuracy: 0.9815999865531921\n"
          ]
        }
      ]
    },
    {
      "cell_type": "markdown",
      "metadata": {
        "collapsed": true,
        "id": "EbcuzK_PU2QU"
      },
      "source": [
        "![](https://www.tensorflow.org/versions/master/images/mnist_tensorboard.png)"
      ]
    }
  ]
}